{
 "cells": [
  {
   "cell_type": "code",
   "execution_count": 1,
   "metadata": {},
   "outputs": [],
   "source": [
    "# Imporing all required libraries\n",
    "\n",
    "# Basic Data manupulation\n",
    "import pandas as pd\n",
    "import numpy as np\n",
    "\n",
    "# Visualization\n",
    "import seaborn as sns\n",
    "import matplotlib.pyplot as plt\n",
    "\n",
    "# Date related functions\n",
    "import datetime\n",
    "import os\n",
    "\n",
    "# Stats\n",
    "from scipy import stats\n",
    "from scipy.stats import skew, norm\n",
    "from scipy.special import boxcox1p\n",
    "from scipy.stats import boxcox_normmax\n",
    "\n",
    "# Machine learning Models for classification techniques\n",
    "from sklearn.model_selection import GridSearchCV\n",
    "from sklearn.tree import DecisionTreeClassifier\n",
    "from sklearn.linear_model import LogisticRegression\n",
    "from sklearn.ensemble import AdaBoostClassifier,RandomForestClassifier\n",
    "from xgboost import XGBClassifier\n",
    "import lightgbm as lgb\n",
    "\n",
    "# Sampling \n",
    "from imblearn.over_sampling import SMOTE"
   ]
  },
  {
   "cell_type": "code",
   "execution_count": 2,
   "metadata": {},
   "outputs": [],
   "source": [
    "# Reading the given data as pandas dataframes\n",
    "train = pd.read_csv('Train.csv')\n",
    "test = pd.read_csv('Test.csv')"
   ]
  },
  {
   "cell_type": "markdown",
   "metadata": {},
   "source": [
    "# Exploratory Data Analysis"
   ]
  },
  {
   "cell_type": "code",
   "execution_count": 3,
   "metadata": {},
   "outputs": [
    {
     "data": {
      "text/plain": [
       "(6439, 16)"
      ]
     },
     "execution_count": 3,
     "metadata": {},
     "output_type": "execute_result"
    }
   ],
   "source": [
    "# Checking the dimension of the train data\n",
    "train.shape"
   ]
  },
  {
   "cell_type": "markdown",
   "metadata": {},
   "source": [
    "The training data has only 16 columns and 6439 rows that is considerably less amount of data provided to us for training our machine learning models, hence we will have to create a cross validation mechanism for checking the efficiency of a model built"
   ]
  },
  {
   "cell_type": "code",
   "execution_count": 4,
   "metadata": {},
   "outputs": [
    {
     "data": {
      "text/plain": [
       "(2676, 15)"
      ]
     },
     "execution_count": 4,
     "metadata": {},
     "output_type": "execute_result"
    }
   ],
   "source": [
    "# Checking the dimension of the test data\n",
    "test.shape"
   ]
  },
  {
   "cell_type": "markdown",
   "metadata": {},
   "source": [
    "The test data has 2676 rows that would provide enough data for validating the results of our analysis using the train data"
   ]
  },
  {
   "cell_type": "code",
   "execution_count": 5,
   "metadata": {},
   "outputs": [
    {
     "data": {
      "text/html": [
       "<div>\n",
       "<style scoped>\n",
       "    .dataframe tbody tr th:only-of-type {\n",
       "        vertical-align: middle;\n",
       "    }\n",
       "\n",
       "    .dataframe tbody tr th {\n",
       "        vertical-align: top;\n",
       "    }\n",
       "\n",
       "    .dataframe thead th {\n",
       "        text-align: right;\n",
       "    }\n",
       "</style>\n",
       "<table border=\"1\" class=\"dataframe\">\n",
       "  <thead>\n",
       "    <tr style=\"text-align: right;\">\n",
       "      <th></th>\n",
       "      <th>L_Id</th>\n",
       "      <th>Date of Creation</th>\n",
       "      <th>Agent Category Assigned</th>\n",
       "      <th>Type of Request</th>\n",
       "      <th>Description of the Request</th>\n",
       "      <th>Location</th>\n",
       "      <th>Street Type</th>\n",
       "      <th>Region Type</th>\n",
       "      <th>Ward No</th>\n",
       "      <th>Estimated Date of Completion</th>\n",
       "      <th>Request Solution Category</th>\n",
       "      <th>Actual Date of Completion</th>\n",
       "      <th>Team Assigned</th>\n",
       "      <th>A_1</th>\n",
       "      <th>A_2</th>\n",
       "      <th>Problem Category</th>\n",
       "    </tr>\n",
       "  </thead>\n",
       "  <tbody>\n",
       "    <tr>\n",
       "      <th>0</th>\n",
       "      <td>LM_1</td>\n",
       "      <td>18-12-2018 00:29</td>\n",
       "      <td>1</td>\n",
       "      <td>10</td>\n",
       "      <td>2</td>\n",
       "      <td>13</td>\n",
       "      <td>11223.0</td>\n",
       "      <td>0</td>\n",
       "      <td>7</td>\n",
       "      <td>18-12-2018 09:29</td>\n",
       "      <td>4</td>\n",
       "      <td>18-12-2018 05:34</td>\n",
       "      <td>45</td>\n",
       "      <td>1</td>\n",
       "      <td>1</td>\n",
       "      <td>1</td>\n",
       "    </tr>\n",
       "    <tr>\n",
       "      <th>1</th>\n",
       "      <td>LM_2</td>\n",
       "      <td>30-11-2018 22:19</td>\n",
       "      <td>1</td>\n",
       "      <td>15</td>\n",
       "      <td>17</td>\n",
       "      <td>13</td>\n",
       "      <td>10019.0</td>\n",
       "      <td>0</td>\n",
       "      <td>30</td>\n",
       "      <td>01-12-2018 07:19</td>\n",
       "      <td>8</td>\n",
       "      <td>01-12-2018 00:35</td>\n",
       "      <td>22</td>\n",
       "      <td>2</td>\n",
       "      <td>2</td>\n",
       "      <td>1</td>\n",
       "    </tr>\n",
       "    <tr>\n",
       "      <th>2</th>\n",
       "      <td>LM_3</td>\n",
       "      <td>12-12-2018 02:37</td>\n",
       "      <td>1</td>\n",
       "      <td>11</td>\n",
       "      <td>22</td>\n",
       "      <td>0</td>\n",
       "      <td>11237.0</td>\n",
       "      <td>2</td>\n",
       "      <td>7</td>\n",
       "      <td>12-12-2018 11:37</td>\n",
       "      <td>8</td>\n",
       "      <td>12-12-2018 04:29</td>\n",
       "      <td>17</td>\n",
       "      <td>1</td>\n",
       "      <td>1</td>\n",
       "      <td>1</td>\n",
       "    </tr>\n",
       "    <tr>\n",
       "      <th>3</th>\n",
       "      <td>LM_4</td>\n",
       "      <td>26-12-2018 01:45</td>\n",
       "      <td>1</td>\n",
       "      <td>11</td>\n",
       "      <td>22</td>\n",
       "      <td>12</td>\n",
       "      <td>11213.0</td>\n",
       "      <td>0</td>\n",
       "      <td>7</td>\n",
       "      <td>26-12-2018 10:45</td>\n",
       "      <td>7</td>\n",
       "      <td>26-12-2018 05:26</td>\n",
       "      <td>33</td>\n",
       "      <td>1</td>\n",
       "      <td>1</td>\n",
       "      <td>1</td>\n",
       "    </tr>\n",
       "    <tr>\n",
       "      <th>4</th>\n",
       "      <td>LM_5</td>\n",
       "      <td>24-12-2018 03:22</td>\n",
       "      <td>1</td>\n",
       "      <td>2</td>\n",
       "      <td>27</td>\n",
       "      <td>13</td>\n",
       "      <td>10460.0</td>\n",
       "      <td>0</td>\n",
       "      <td>6</td>\n",
       "      <td>24-12-2018 12:22</td>\n",
       "      <td>4</td>\n",
       "      <td>24-12-2018 10:20</td>\n",
       "      <td>24</td>\n",
       "      <td>0</td>\n",
       "      <td>0</td>\n",
       "      <td>1</td>\n",
       "    </tr>\n",
       "  </tbody>\n",
       "</table>\n",
       "</div>"
      ],
      "text/plain": [
       "   L_Id  Date of Creation  Agent Category Assigned  Type of Request  \\\n",
       "0  LM_1  18-12-2018 00:29                        1               10   \n",
       "1  LM_2  30-11-2018 22:19                        1               15   \n",
       "2  LM_3  12-12-2018 02:37                        1               11   \n",
       "3  LM_4  26-12-2018 01:45                        1               11   \n",
       "4  LM_5  24-12-2018 03:22                        1                2   \n",
       "\n",
       "   Description of the Request  Location  Street Type  Region Type  Ward No  \\\n",
       "0                           2        13      11223.0            0        7   \n",
       "1                          17        13      10019.0            0       30   \n",
       "2                          22         0      11237.0            2        7   \n",
       "3                          22        12      11213.0            0        7   \n",
       "4                          27        13      10460.0            0        6   \n",
       "\n",
       "  Estimated Date of Completion  Request Solution Category  \\\n",
       "0             18-12-2018 09:29                          4   \n",
       "1             01-12-2018 07:19                          8   \n",
       "2             12-12-2018 11:37                          8   \n",
       "3             26-12-2018 10:45                          7   \n",
       "4             24-12-2018 12:22                          4   \n",
       "\n",
       "  Actual Date of Completion  Team Assigned  A_1  A_2  Problem Category  \n",
       "0          18-12-2018 05:34             45    1    1                 1  \n",
       "1          01-12-2018 00:35             22    2    2                 1  \n",
       "2          12-12-2018 04:29             17    1    1                 1  \n",
       "3          26-12-2018 05:26             33    1    1                 1  \n",
       "4          24-12-2018 10:20             24    0    0                 1  "
      ]
     },
     "execution_count": 5,
     "metadata": {},
     "output_type": "execute_result"
    }
   ],
   "source": [
    "# Taking a look at the training data\n",
    "train.head()"
   ]
  },
  {
   "cell_type": "markdown",
   "metadata": {},
   "source": [
    "From the initial glance at the given data we can notice a few things :\n",
    "\n",
    "    1. \"Date of Creation\" and \"Actual Date of Completion\" columns need to be converted to a proper date format\n",
    "    2. We can create another columns for time factor in \"Date of Creation\" and \"Actual Date of Completion\" for analysing if the time also plays a role in deciding the output\n",
    "    3. \"Street type\" column should not be a float value as it only signifies that the street is uphill or downhill\n",
    "    4. \"A_1\" and \"A_2\" columns look exactly same\n",
    "\n",
    "We will further analyse these assumptions and manupulate the data accordingly, but first we should have a look at the testing data as well"
   ]
  },
  {
   "cell_type": "code",
   "execution_count": 6,
   "metadata": {},
   "outputs": [
    {
     "data": {
      "text/html": [
       "<div>\n",
       "<style scoped>\n",
       "    .dataframe tbody tr th:only-of-type {\n",
       "        vertical-align: middle;\n",
       "    }\n",
       "\n",
       "    .dataframe tbody tr th {\n",
       "        vertical-align: top;\n",
       "    }\n",
       "\n",
       "    .dataframe thead th {\n",
       "        text-align: right;\n",
       "    }\n",
       "</style>\n",
       "<table border=\"1\" class=\"dataframe\">\n",
       "  <thead>\n",
       "    <tr style=\"text-align: right;\">\n",
       "      <th></th>\n",
       "      <th>L_Id</th>\n",
       "      <th>Date of Creation</th>\n",
       "      <th>Agent Category Assigned</th>\n",
       "      <th>Type of Request</th>\n",
       "      <th>Description of the Request</th>\n",
       "      <th>Location</th>\n",
       "      <th>Street Type</th>\n",
       "      <th>Region Type</th>\n",
       "      <th>Ward No</th>\n",
       "      <th>Estimated Date of Completion</th>\n",
       "      <th>Request Solution Category</th>\n",
       "      <th>Actual Date of Completion</th>\n",
       "      <th>Team Assigned</th>\n",
       "      <th>A_1</th>\n",
       "      <th>A_2</th>\n",
       "    </tr>\n",
       "  </thead>\n",
       "  <tbody>\n",
       "    <tr>\n",
       "      <th>0</th>\n",
       "      <td>LM_19321</td>\n",
       "      <td>03-12-2018 01:30</td>\n",
       "      <td>1</td>\n",
       "      <td>2</td>\n",
       "      <td>31</td>\n",
       "      <td>13</td>\n",
       "      <td>11213.0</td>\n",
       "      <td>0</td>\n",
       "      <td>7</td>\n",
       "      <td>03-12-2018 10:30</td>\n",
       "      <td>8</td>\n",
       "      <td>03-12-2018 06:57</td>\n",
       "      <td>33</td>\n",
       "      <td>1</td>\n",
       "      <td>1</td>\n",
       "    </tr>\n",
       "    <tr>\n",
       "      <th>1</th>\n",
       "      <td>LM_19322</td>\n",
       "      <td>12-12-2018 03:22</td>\n",
       "      <td>1</td>\n",
       "      <td>15</td>\n",
       "      <td>6</td>\n",
       "      <td>13</td>\n",
       "      <td>NaN</td>\n",
       "      <td>4</td>\n",
       "      <td>31</td>\n",
       "      <td>12-12-2018 12:22</td>\n",
       "      <td>12</td>\n",
       "      <td>NaN</td>\n",
       "      <td>0</td>\n",
       "      <td>5</td>\n",
       "      <td>5</td>\n",
       "    </tr>\n",
       "    <tr>\n",
       "      <th>2</th>\n",
       "      <td>LM_19323</td>\n",
       "      <td>30-12-2018 15:25</td>\n",
       "      <td>1</td>\n",
       "      <td>14</td>\n",
       "      <td>22</td>\n",
       "      <td>13</td>\n",
       "      <td>10027.0</td>\n",
       "      <td>2</td>\n",
       "      <td>30</td>\n",
       "      <td>31-12-2018 00:25</td>\n",
       "      <td>7</td>\n",
       "      <td>30-12-2018 17:01</td>\n",
       "      <td>38</td>\n",
       "      <td>2</td>\n",
       "      <td>2</td>\n",
       "    </tr>\n",
       "    <tr>\n",
       "      <th>3</th>\n",
       "      <td>LM_19324</td>\n",
       "      <td>27-12-2018 09:12</td>\n",
       "      <td>1</td>\n",
       "      <td>10</td>\n",
       "      <td>10</td>\n",
       "      <td>13</td>\n",
       "      <td>11385.0</td>\n",
       "      <td>2</td>\n",
       "      <td>38</td>\n",
       "      <td>27-12-2018 18:12</td>\n",
       "      <td>4</td>\n",
       "      <td>27-12-2018 11:34</td>\n",
       "      <td>23</td>\n",
       "      <td>3</td>\n",
       "      <td>3</td>\n",
       "    </tr>\n",
       "    <tr>\n",
       "      <th>4</th>\n",
       "      <td>LM_19325</td>\n",
       "      <td>21-12-2018 13:38</td>\n",
       "      <td>1</td>\n",
       "      <td>10</td>\n",
       "      <td>15</td>\n",
       "      <td>13</td>\n",
       "      <td>11217.0</td>\n",
       "      <td>2</td>\n",
       "      <td>7</td>\n",
       "      <td>21-12-2018 22:38</td>\n",
       "      <td>8</td>\n",
       "      <td>21-12-2018 16:08</td>\n",
       "      <td>7</td>\n",
       "      <td>1</td>\n",
       "      <td>1</td>\n",
       "    </tr>\n",
       "  </tbody>\n",
       "</table>\n",
       "</div>"
      ],
      "text/plain": [
       "       L_Id  Date of Creation  Agent Category Assigned  Type of Request  \\\n",
       "0  LM_19321  03-12-2018 01:30                        1                2   \n",
       "1  LM_19322  12-12-2018 03:22                        1               15   \n",
       "2  LM_19323  30-12-2018 15:25                        1               14   \n",
       "3  LM_19324  27-12-2018 09:12                        1               10   \n",
       "4  LM_19325  21-12-2018 13:38                        1               10   \n",
       "\n",
       "   Description of the Request  Location  Street Type  Region Type  Ward No  \\\n",
       "0                          31        13      11213.0            0        7   \n",
       "1                           6        13          NaN            4       31   \n",
       "2                          22        13      10027.0            2       30   \n",
       "3                          10        13      11385.0            2       38   \n",
       "4                          15        13      11217.0            2        7   \n",
       "\n",
       "  Estimated Date of Completion  Request Solution Category  \\\n",
       "0             03-12-2018 10:30                          8   \n",
       "1             12-12-2018 12:22                         12   \n",
       "2             31-12-2018 00:25                          7   \n",
       "3             27-12-2018 18:12                          4   \n",
       "4             21-12-2018 22:38                          8   \n",
       "\n",
       "  Actual Date of Completion  Team Assigned  A_1  A_2  \n",
       "0          03-12-2018 06:57             33    1    1  \n",
       "1                       NaN              0    5    5  \n",
       "2          30-12-2018 17:01             38    2    2  \n",
       "3          27-12-2018 11:34             23    3    3  \n",
       "4          21-12-2018 16:08              7    1    1  "
      ]
     },
     "execution_count": 6,
     "metadata": {},
     "output_type": "execute_result"
    }
   ],
   "source": [
    "# Taking a look at the test data\n",
    "test.head()"
   ]
  },
  {
   "cell_type": "markdown",
   "metadata": {},
   "source": [
    "The assumptions took while having a look at the training data are also present in the training data however we can also see that there is a NaN value present in the data, hence we would check the missing values present in both train and test data"
   ]
  },
  {
   "cell_type": "code",
   "execution_count": 7,
   "metadata": {},
   "outputs": [
    {
     "data": {
      "text/plain": [
       "Actual Date of Completion    432\n",
       "Street Type                  419\n",
       "Problem Category               0\n",
       "A_2                            0\n",
       "A_1                            0\n",
       "dtype: int64"
      ]
     },
     "execution_count": 7,
     "metadata": {},
     "output_type": "execute_result"
    }
   ],
   "source": [
    "# Checking the missing values in training data\n",
    "train.isna().sum().sort_values(ascending = False).head()"
   ]
  },
  {
   "cell_type": "markdown",
   "metadata": {},
   "source": [
    "As we can see there are null or missing values in 2 columns i.e Actual Date of Completion and Street Type column.\n",
    "Assumptions:\n",
    "    \n",
    "    1. We would assume that where Actual Date of Completion column is null , there the project is yet to be completed or not completed\n",
    "    2. For null values in Street Type column, we would like to assume that the slanting property of that street is not available to us, hence we would have to further analyse by which method we can impute the missing values in order to increase the efficiency of our predictions\n",
    "    "
   ]
  },
  {
   "cell_type": "code",
   "execution_count": 8,
   "metadata": {},
   "outputs": [
    {
     "data": {
      "text/plain": [
       "Actual Date of Completion       178\n",
       "Street Type                     172\n",
       "Estimated Date of Completion      2\n",
       "A_2                               0\n",
       "A_1                               0\n",
       "dtype: int64"
      ]
     },
     "execution_count": 8,
     "metadata": {},
     "output_type": "execute_result"
    }
   ],
   "source": [
    "# Checking the missing values in test data\n",
    "test.isna().sum().sort_values(ascending = False).head()"
   ]
  },
  {
   "cell_type": "markdown",
   "metadata": {},
   "source": [
    "There are again missing values present in the data in columns : Actual Date of Completion, Street Type and Estimated Date of Completion \n",
    "    \n",
    "    1. For the 2 columns similar to the training data we would continue to have the same assumptions, however for the column \"Estimated Date of Completion\" we would have to further analyse the data available.\n",
    "        1. Firstly we will have to check if the rows where \"Estimated Date of Completion\" is null, there the column \"Actual Date of Completion\" is present or not , on the basis of that we can further make a conclusion that is it a data entry miss or we don't have the clarity on when that particular model is going to end."
   ]
  },
  {
   "cell_type": "code",
   "execution_count": 9,
   "metadata": {},
   "outputs": [],
   "source": [
    "## Converting the datatypes of the columns to required format\n",
    "\n",
    "# converting Object to date\n",
    "train[\"Date of Creation\"] = pd.to_datetime(train[\"Date of Creation\"]).dt.normalize()\n",
    "train[\"Actual Date of Completion\"] = pd.to_datetime(train[\"Actual Date of Completion\"]).dt.normalize()\n",
    "train[\"Estimated Date of Completion\"] = pd.to_datetime(train[\"Estimated Date of Completion\"]).dt.normalize()"
   ]
  },
  {
   "cell_type": "code",
   "execution_count": 10,
   "metadata": {},
   "outputs": [
    {
     "data": {
      "text/plain": [
       "<matplotlib.axes._subplots.AxesSubplot at 0x2949b2f9e88>"
      ]
     },
     "execution_count": 10,
     "metadata": {},
     "output_type": "execute_result"
    },
    {
     "data": {
      "image/png": "[encoded data removed]",
      "text/plain": [
       "<Figure size 432x288 with 1 Axes>"
      ]
     },
     "metadata": {
      "needs_background": "light"
     },
     "output_type": "display_data"
    }
   ],
   "source": [
    "# First we will check and impute missing values for Actual Date of Completion column\n",
    "sns.countplot(x='Actual Date of Completion',data=train)"
   ]
  },
  {
   "cell_type": "markdown",
   "metadata": {},
   "source": [
    "As we can see there is no clear pattern in the data however we can see that some values are comparitively much higher than the others while there are some values extremely low and close to 0, they might be outliers but as this is a date column we would rather move ahead with the given data itself\n",
    "For imputing the missing values we should give the values as \"Not available\""
   ]
  },
  {
   "cell_type": "code",
   "execution_count": 11,
   "metadata": {},
   "outputs": [
    {
     "data": {
      "text/plain": [
       "11385.0    125\n",
       "11368.0    102\n",
       "11230.0     99\n",
       "11234.0     87\n",
       "11209.0     86\n",
       "          ... \n",
       "11040.0      2\n",
       "11239.0      2\n",
       "10281.0      1\n",
       "11109.0      1\n",
       "10282.0      1\n",
       "Name: Street Type, Length: 177, dtype: int64"
      ]
     },
     "execution_count": 11,
     "metadata": {},
     "output_type": "execute_result"
    }
   ],
   "source": [
    "# Next I would like to move on to street type column\n",
    "train[\"Street Type\"].value_counts()"
   ]
  },
  {
   "cell_type": "code",
   "execution_count": 12,
   "metadata": {},
   "outputs": [
    {
     "data": {
      "text/plain": [
       "<matplotlib.axes._subplots.AxesSubplot at 0x2949bd3f588>"
      ]
     },
     "execution_count": 12,
     "metadata": {},
     "output_type": "execute_result"
    },
    {
     "data": {
      "image/png": "[encoded data removed]",
      "text/plain": [
       "<Figure size 432x288 with 1 Axes>"
      ]
     },
     "metadata": {
      "needs_background": "light"
     },
     "output_type": "display_data"
    }
   ],
   "source": [
    "sns.countplot(x='Street Type',data=train)"
   ]
  },
  {
   "cell_type": "code",
   "execution_count": 13,
   "metadata": {},
   "outputs": [],
   "source": [
    "# As there is no trend in the given data we will impute the values with '0'\n",
    "train[\"Street Type\"] = train[\"Street Type\"].fillna(0)\n",
    "test[\"Street Type\"] = test[\"Street Type\"].fillna(0)\n"
   ]
  },
  {
   "cell_type": "code",
   "execution_count": 14,
   "metadata": {},
   "outputs": [
    {
     "data": {
      "text/plain": [
       "L_Id                                    object\n",
       "Date of Creation                datetime64[ns]\n",
       "Agent Category Assigned                  int64\n",
       "Type of Request                          int64\n",
       "Description of the Request               int64\n",
       "Location                                 int64\n",
       "Street Type                              int32\n",
       "Region Type                              int64\n",
       "Ward No                                  int64\n",
       "Estimated Date of Completion    datetime64[ns]\n",
       "Request Solution Category                int64\n",
       "Actual Date of Completion       datetime64[ns]\n",
       "Team Assigned                            int64\n",
       "A_1                                      int64\n",
       "A_2                                      int64\n",
       "Problem Category                         int64\n",
       "dtype: object"
      ]
     },
     "execution_count": 14,
     "metadata": {},
     "output_type": "execute_result"
    }
   ],
   "source": [
    "# Converting float to Int\n",
    "train['Street Type'] = train['Street Type'].astype(int)\n",
    "\n",
    "train.dtypes"
   ]
  },
  {
   "cell_type": "code",
   "execution_count": 15,
   "metadata": {},
   "outputs": [
    {
     "name": "stdout",
     "output_type": "stream",
     "text": [
      "6439\n",
      "6439\n"
     ]
    }
   ],
   "source": [
    "# Checking if each row has a unique id\n",
    "print(len(train['L_Id']))\n",
    "print(len(train['L_Id'].unique()))"
   ]
  },
  {
   "cell_type": "markdown",
   "metadata": {},
   "source": [
    "Each row has a unique id associated to it "
   ]
  },
  {
   "cell_type": "code",
   "execution_count": 16,
   "metadata": {},
   "outputs": [
    {
     "data": {
      "image/png": "[encoded data removed]",
      "text/plain": [
       "<Figure size 864x720 with 2 Axes>"
      ]
     },
     "metadata": {
      "needs_background": "light"
     },
     "output_type": "display_data"
    }
   ],
   "source": [
    "# Let us check how the independent variables are linked to the dependent(target) variable\n",
    "corrmat = train.corr()\n",
    "f, ax = plt.subplots(figsize=(12, 10))\n",
    "sns.heatmap(corrmat, vmax=.8,cmap=\"Blues\", square=True);"
   ]
  },
  {
   "cell_type": "markdown",
   "metadata": {},
   "source": [
    "Validating our initial assumption that A_1 and A_2 columns are exactly same because of 100% correlation, we can safely remove any one column from the analysis"
   ]
  },
  {
   "cell_type": "code",
   "execution_count": 17,
   "metadata": {},
   "outputs": [],
   "source": [
    "# Dropping A_1 column from both test and train data\n",
    "train.drop([\"A_1\"], axis = 1, inplace = True)\n",
    "test.drop([\"A_1\"], axis = 1, inplace = True)"
   ]
  },
  {
   "cell_type": "code",
   "execution_count": 18,
   "metadata": {},
   "outputs": [
    {
     "data": {
      "image/png": "[encoded data removed]",
      "text/plain": [
       "<Figure size 216x864 with 2 Axes>"
      ]
     },
     "metadata": {
      "needs_background": "light"
     },
     "output_type": "display_data"
    }
   ],
   "source": [
    "## Checking the importance of each variable by checking correlation with the target variable\n",
    "plt.figure(figsize=(3,12))\n",
    "sns.heatmap(train.corr()[['Problem Category']].sort_values(by=['Problem Category'],ascending=False).head(50), vmin=-1, annot=True);"
   ]
  },
  {
   "cell_type": "code",
   "execution_count": 19,
   "metadata": {},
   "outputs": [
    {
     "data": {
      "text/plain": [
       "L_Id                                    object\n",
       "Date of Creation                datetime64[ns]\n",
       "Agent Category Assigned                  int64\n",
       "Type of Request                          int64\n",
       "Description of the Request               int64\n",
       "Location                                 int64\n",
       "Street Type                              int32\n",
       "Region Type                              int64\n",
       "Ward No                                  int64\n",
       "Estimated Date of Completion    datetime64[ns]\n",
       "Request Solution Category                int64\n",
       "Actual Date of Completion       datetime64[ns]\n",
       "Team Assigned                            int64\n",
       "A_2                                      int64\n",
       "Problem Category                         int64\n",
       "dtype: object"
      ]
     },
     "execution_count": 19,
     "metadata": {},
     "output_type": "execute_result"
    }
   ],
   "source": [
    "train.dtypes"
   ]
  },
  {
   "cell_type": "code",
   "execution_count": 20,
   "metadata": {},
   "outputs": [
    {
     "name": "stdout",
     "output_type": "stream",
     "text": [
      "(array([], dtype=int64), array([], dtype=int64))\n"
     ]
    },
    {
     "name": "stderr",
     "output_type": "stream",
     "text": [
      "C:\\Anaconda3\\lib\\site-packages\\scipy\\stats\\stats.py:2419: RuntimeWarning: invalid value encountered in true_divide\n",
      "  return (a - mns) / sstd\n",
      "C:\\Anaconda3\\lib\\site-packages\\ipykernel_launcher.py:9: RuntimeWarning: invalid value encountered in greater\n",
      "  if __name__ == '__main__':\n"
     ]
    }
   ],
   "source": [
    "## Checking for outliers in the data\n",
    "\n",
    "int_variable_list=['Agent Category Assigned','Type of Request','Description of the Request','Location','Region Type','Ward No','Request Solution Category','Team Assigned','A_2']\n",
    "\n",
    "z_score_calc = train[int_variable_list]\n",
    "# Calculating z score\n",
    "z = np.abs(stats.zscore(z_score_calc))\n",
    "# print(z)\n",
    "print(np.where(z > 4))"
   ]
  },
  {
   "cell_type": "markdown",
   "metadata": {},
   "source": [
    "There are no significant outliers present in the given data"
   ]
  },
  {
   "cell_type": "code",
   "execution_count": 21,
   "metadata": {},
   "outputs": [
    {
     "data": {
      "image/png": "[encoded data removed]",
      "text/plain": [
       "<Figure size 576x504 with 1 Axes>"
      ]
     },
     "metadata": {},
     "output_type": "display_data"
    }
   ],
   "source": [
    "## Checking the skewness of the numeric columns\n",
    "# Create box plots for all numeric features\n",
    "sns.set_style(\"white\")\n",
    "f, ax = plt.subplots(figsize=(8, 7))\n",
    "ax.set_xscale(\"log\")\n",
    "ax = sns.boxplot(data=train[int_variable_list] , orient=\"h\", palette=\"Set1\")\n",
    "ax.xaxis.grid(False)\n",
    "ax.set(ylabel=\"Feature names\")\n",
    "ax.set(xlabel=\"Numeric values\")\n",
    "ax.set(title=\"Numeric Distribution of Features\")\n",
    "sns.despine(trim=True, left=True)"
   ]
  },
  {
   "cell_type": "code",
   "execution_count": 22,
   "metadata": {},
   "outputs": [
    {
     "name": "stdout",
     "output_type": "stream",
     "text": [
      "There are 1 numerical features with Skew > 0.5 :\n"
     ]
    },
    {
     "data": {
      "text/plain": [
       "Region Type                   2.008863\n",
       "A_2                           0.487225\n",
       "Ward No                       0.476131\n",
       "Request Solution Category     0.414269\n",
       "Type of Request               0.030378\n",
       "Team Assigned                 0.006707\n",
       "Agent Category Assigned       0.000000\n",
       "Description of the Request   -0.469468\n",
       "Location                     -3.485294\n",
       "dtype: float64"
      ]
     },
     "execution_count": 22,
     "metadata": {},
     "output_type": "execute_result"
    }
   ],
   "source": [
    "# Find skewed numerical features\n",
    "skew_features = train[int_variable_list].apply(lambda x: skew(x)).sort_values(ascending=False)\n",
    "\n",
    "# Features with high skewness\n",
    "high_skew = skew_features[skew_features > 0.5]\n",
    "skew_index = high_skew.index\n",
    "\n",
    "print(\"There are {} numerical features with Skew > 0.5 :\".format(high_skew.shape[0]))\n",
    "skewness = pd.DataFrame({'Skew' :high_skew})\n",
    "skew_features.head(10)"
   ]
  },
  {
   "cell_type": "markdown",
   "metadata": {},
   "source": [
    "we can validate the initial assumption that location and region type will highly influence the data"
   ]
  },
  {
   "cell_type": "code",
   "execution_count": 23,
   "metadata": {},
   "outputs": [
    {
     "name": "stdout",
     "output_type": "stream",
     "text": [
      "1    6001\n",
      "2     301\n",
      "0     137\n",
      "Name: Problem Category, dtype: int64\n"
     ]
    },
    {
     "data": {
      "text/plain": [
       "<matplotlib.axes._subplots.AxesSubplot at 0x2949d8c1488>"
      ]
     },
     "execution_count": 23,
     "metadata": {},
     "output_type": "execute_result"
    },
    {
     "data": {
      "image/png": "[encoded data removed]",
      "text/plain": [
       "<Figure size 720x720 with 1 Axes>"
      ]
     },
     "metadata": {},
     "output_type": "display_data"
    }
   ],
   "source": [
    "## Checking the target variable distribution\n",
    "print(train['Problem Category'].value_counts())\n",
    "plt.figure(figsize=(10,10))\n",
    "plt.xticks(rotation=90)\n",
    "plt.title('Distribution of Target Variable')\n",
    "sns.countplot(x='Problem Category',data=train)"
   ]
  },
  {
   "cell_type": "markdown",
   "metadata": {},
   "source": [
    "As we can see the target distribution is highly skewed towards the value 1, hence we will have to sample the training data differently in order to have a balanced dataset and then the model will be able to predict the values correctly"
   ]
  },
  {
   "cell_type": "code",
   "execution_count": 24,
   "metadata": {},
   "outputs": [
    {
     "data": {
      "text/plain": [
       "L_Id                                    object\n",
       "Date of Creation                datetime64[ns]\n",
       "Agent Category Assigned                  int64\n",
       "Type of Request                          int64\n",
       "Description of the Request               int64\n",
       "Location                                 int64\n",
       "Street Type                              int32\n",
       "Region Type                              int64\n",
       "Ward No                                  int64\n",
       "Estimated Date of Completion    datetime64[ns]\n",
       "Request Solution Category                int64\n",
       "Actual Date of Completion       datetime64[ns]\n",
       "Team Assigned                            int64\n",
       "A_2                                      int64\n",
       "Problem Category                         int64\n",
       "dtype: object"
      ]
     },
     "execution_count": 24,
     "metadata": {},
     "output_type": "execute_result"
    }
   ],
   "source": [
    "train.dtypes"
   ]
  },
  {
   "cell_type": "code",
   "execution_count": 25,
   "metadata": {},
   "outputs": [],
   "source": [
    "X = train[int_variable_list]\n",
    "y = train['Problem Category']"
   ]
  },
  {
   "cell_type": "code",
   "execution_count": 26,
   "metadata": {
    "scrolled": true
   },
   "outputs": [],
   "source": [
    "# Modelling\n",
    "# Creating the variables for model fitting\n",
    "X = train[int_variable_list]\n",
    "y = train['Problem Category']\n",
    "\n",
    "# Test variable\n",
    "test = test.drop(columns=['L_Id'])"
   ]
  },
  {
   "cell_type": "code",
   "execution_count": 27,
   "metadata": {},
   "outputs": [],
   "source": [
    "from sklearn.model_selection import train_test_split\n",
    "X_train, X_test, y_train, y_test = train_test_split(X, y,test_size = .3, random_state=0)"
   ]
  },
  {
   "cell_type": "code",
   "execution_count": 28,
   "metadata": {},
   "outputs": [
    {
     "name": "stdout",
     "output_type": "stream",
     "text": [
      "Before OverSampling, counts of label '2': 224\n",
      "Before OverSampling, counts of label '1': 4197\n",
      "Before OverSampling, counts of label '0': 86 \n",
      "\n",
      "After OverSampling, the shape of train_X: (12591, 9)\n",
      "After OverSampling, the shape of train_y: (12591,) \n",
      "\n",
      "After OverSampling, counts of label '2': 4197\n",
      "After OverSampling, counts of label '1': 4197\n",
      "After OverSampling, counts of label '0': 4197\n"
     ]
    }
   ],
   "source": [
    "print(\"Before OverSampling, counts of label '2': {}\".format(sum(y_train == 2)))\n",
    "print(\"Before OverSampling, counts of label '1': {}\".format(sum(y_train == 1))) \n",
    "print(\"Before OverSampling, counts of label '0': {} \\n\".format(sum(y_train == 0))) \n",
    " \n",
    "sm = SMOTE(random_state = 3) \n",
    "X_train_res, y_train_res = sm.fit_sample(X_train, y_train.ravel()) \n",
    "  \n",
    "print('After OverSampling, the shape of train_X: {}'.format(X_train_res.shape)) \n",
    "print('After OverSampling, the shape of train_y: {} \\n'.format(y_train_res.shape)) \n",
    "  \n",
    "print(\"After OverSampling, counts of label '2': {}\".format(sum(y_train_res == 2))) \n",
    "print(\"After OverSampling, counts of label '1': {}\".format(sum(y_train_res == 1))) \n",
    "print(\"After OverSampling, counts of label '0': {}\".format(sum(y_train_res == 0)))"
   ]
  },
  {
   "cell_type": "code",
   "execution_count": 29,
   "metadata": {},
   "outputs": [
    {
     "data": {
      "text/plain": [
       "0.9658385093167702"
      ]
     },
     "execution_count": 29,
     "metadata": {},
     "output_type": "execute_result"
    }
   ],
   "source": [
    "## Modelling\n",
    "## Using Random Forest Model to predict the target value on test data\n",
    "## This line instantiates the model. ## This  \n",
    "rf = RandomForestClassifier() \n",
    "## Fit the model on your training data.\n",
    "rf.fit(X_train_res, y_train_res) \n",
    "## And score it on your testing data.\n",
    "rf.score(X_test, y_test)"
   ]
  },
  {
   "cell_type": "code",
   "execution_count": 33,
   "metadata": {},
   "outputs": [],
   "source": [
    "test = pd.read_csv('Test.csv')\n",
    "test_for_pred = test[int_variable_list]\n",
    "prediction_rf = rf.predict(test_for_pred)"
   ]
  },
  {
   "cell_type": "code",
   "execution_count": 34,
   "metadata": {},
   "outputs": [],
   "source": [
    "df_rf=pd.DataFrame()\n",
    "df_rf['L_Id']=test['L_Id']\n",
    "df_rf['Problem Category']=prediction_rf"
   ]
  },
  {
   "cell_type": "code",
   "execution_count": 36,
   "metadata": {},
   "outputs": [
    {
     "data": {
      "text/plain": [
       "0.9648033126293996"
      ]
     },
     "execution_count": 36,
     "metadata": {},
     "output_type": "execute_result"
    }
   ],
   "source": [
    "## LightGBM classifier\n",
    "lgbc = lgb.LGBMClassifier(learning_rate = 0.125, \n",
    "                        n_estimators = 20, num_leaves = 38)\n",
    "lgbc.fit(X_train_res, y_train_res) \n",
    "lgbc.score(X_test, y_test)"
   ]
  },
  {
   "cell_type": "code",
   "execution_count": 37,
   "metadata": {},
   "outputs": [],
   "source": [
    "prediction_lgb = lgbc.predict(test_for_pred)"
   ]
  },
  {
   "cell_type": "code",
   "execution_count": 38,
   "metadata": {},
   "outputs": [],
   "source": [
    "df_lgb=pd.DataFrame()\n",
    "df_lgb['L_Id']=test['L_Id']\n",
    "df_lgb['Problem Category']=prediction_lgb"
   ]
  },
  {
   "cell_type": "code",
   "execution_count": 39,
   "metadata": {},
   "outputs": [
    {
     "data": {
      "text/plain": [
       "0.9658385093167702"
      ]
     },
     "execution_count": 39,
     "metadata": {},
     "output_type": "execute_result"
    }
   ],
   "source": [
    "## XGBoost Classifier\n",
    "xgbc = XGBClassifier()\n",
    "xgbc.fit(X_train_res, y_train_res) \n",
    "xgbc.score(X_test, y_test)"
   ]
  },
  {
   "cell_type": "code",
   "execution_count": 40,
   "metadata": {},
   "outputs": [],
   "source": [
    "prediction_xgb = xgbc.predict(test_for_pred)"
   ]
  },
  {
   "cell_type": "code",
   "execution_count": 41,
   "metadata": {},
   "outputs": [],
   "source": [
    "df_xgb=pd.DataFrame()\n",
    "df_xgb['L_Id']=test['L_Id']\n",
    "df_xgb['Problem Category']=prediction_xgb"
   ]
  },
  {
   "cell_type": "code",
   "execution_count": 44,
   "metadata": {},
   "outputs": [],
   "source": [
    "# Blend models in order to make the final predictions more robust to overfitting\n",
    "def blended_predictions(X):\n",
    "    return (((0.3 * rf.predict(X)) + \\\n",
    "            (0.3 * lgbc.predict(X)) + \\\n",
    "            (0.4 * xgbc.predict((X)))))"
   ]
  },
  {
   "cell_type": "code",
   "execution_count": 45,
   "metadata": {},
   "outputs": [],
   "source": [
    "final_predictions  = blended_predictions(test_for_pred)"
   ]
  },
  {
   "cell_type": "code",
   "execution_count": 46,
   "metadata": {},
   "outputs": [],
   "source": [
    "df_blended=pd.DataFrame()\n",
    "df_blended['L_Id']=test['L_Id']\n",
    "df_blended['Problem Category']=final_predictions"
   ]
  },
  {
   "cell_type": "code",
   "execution_count": null,
   "metadata": {},
   "outputs": [],
   "source": []
  }
 ],
 "metadata": {
  "kernelspec": {
   "display_name": "Python 3",
   "language": "python",
   "name": "python3"
  },
  "language_info": {
   "codemirror_mode": {
    "name": "ipython",
    "version": 3
   },
   "file_extension": ".py",
   "mimetype": "text/x-python",
   "name": "python",
   "nbconvert_exporter": "python",
   "pygments_lexer": "ipython3",
   "version": "3.7.6"
  }
 },
 "nbformat": 4,
 "nbformat_minor": 4
}
